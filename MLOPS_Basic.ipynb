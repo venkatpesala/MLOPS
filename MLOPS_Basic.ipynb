{
  "nbformat": 4,
  "nbformat_minor": 0,
  "metadata": {
    "colab": {
      "name": "Untitled1.ipynb",
      "provenance": [],
      "toc_visible": true,
      "authorship_tag": "ABX9TyNXwopMNgqnGfwF8+RSk90X",
      "include_colab_link": true
    },
    "kernelspec": {
      "name": "python3",
      "display_name": "Python 3"
    },
    "language_info": {
      "name": "python"
    }
  },
  "cells": [
    {
      "cell_type": "markdown",
      "metadata": {
        "id": "view-in-github",
        "colab_type": "text"
      },
      "source": [
        "<a href=\"https://colab.research.google.com/github/venkatpesala/MLOPS/blob/main/MLOPS_Basic.ipynb\" target=\"_parent\"><img src=\"https://colab.research.google.com/assets/colab-badge.svg\" alt=\"Open In Colab\"/></a>"
      ]
    },
    {
      "cell_type": "code",
      "execution_count": 2,
      "metadata": {
        "id": "r9TqMSCLZ5w8"
      },
      "outputs": [],
      "source": [
        "import numpy as np"
      ]
    },
    {
      "cell_type": "code",
      "source": [
        "!ls"
      ],
      "metadata": {
        "colab": {
          "base_uri": "https://localhost:8080/"
        },
        "id": "2wxhzvXrqnjc",
        "outputId": "e59962b5-a86a-4104-af1d-d36444844c4c"
      },
      "execution_count": 3,
      "outputs": [
        {
          "output_type": "stream",
          "name": "stdout",
          "text": [
            "sample_data\n"
          ]
        }
      ]
    },
    {
      "cell_type": "code",
      "source": [
        "!wget https://github.com/venkatpesala/MLOPS/blob/main/ClassifierModel.pickle"
      ],
      "metadata": {
        "colab": {
          "base_uri": "https://localhost:8080/"
        },
        "id": "_AJXCFR8rEZH",
        "outputId": "851b7dc6-000b-4e86-999c-444c1e07b124"
      },
      "execution_count": 15,
      "outputs": [
        {
          "output_type": "stream",
          "name": "stdout",
          "text": [
            "--2022-03-14 14:12:23--  https://github.com/venkatpesala/MLOPS/blob/main/ClassifierModel.pickle\n",
            "Resolving github.com (github.com)... 140.82.112.4\n",
            "Connecting to github.com (github.com)|140.82.112.4|:443... connected.\n",
            "HTTP request sent, awaiting response... 200 OK\n",
            "Length: unspecified [text/html]\n",
            "Saving to: ‘ClassifierModel.pickle’\n",
            "\n",
            "\rClassifierModel.pic     [<=>                 ]       0  --.-KB/s               \rClassifierModel.pic     [ <=>                ] 120.82K  --.-KB/s    in 0.007s  \n",
            "\n",
            "2022-03-14 14:12:23 (17.4 MB/s) - ‘ClassifierModel.pickle’ saved [123716]\n",
            "\n"
          ]
        }
      ]
    },
    {
      "cell_type": "code",
      "source": [
        "!ls"
      ],
      "metadata": {
        "colab": {
          "base_uri": "https://localhost:8080/"
        },
        "id": "kyQd_QEXrLSJ",
        "outputId": "20ecc30d-273a-4c9b-aae6-a2140309933d"
      },
      "execution_count": 16,
      "outputs": [
        {
          "output_type": "stream",
          "name": "stdout",
          "text": [
            " 8012aa2a1696d2e386fc4dc82f43a27824be2b75  'view?usp=sharing'\n",
            " ClassifierModel.pickle\t\t\t   'view?usp=sharing.1'\n",
            " sample_data\n"
          ]
        }
      ]
    },
    {
      "cell_type": "code",
      "source": [
        ""
      ],
      "metadata": {
        "id": "PucjA0AorQeR"
      },
      "execution_count": null,
      "outputs": []
    }
  ]
}
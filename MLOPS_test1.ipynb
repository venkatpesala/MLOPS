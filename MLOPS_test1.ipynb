{
  "nbformat": 4,
  "nbformat_minor": 0,
  "metadata": {
    "colab": {
      "name": "MLOPS_test1.ipynb",
      "provenance": [],
      "toc_visible": true,
      "collapsed_sections": [],
      "authorship_tag": "ABX9TyNk+w6sdubt87lmKlbdUgLa",
      "include_colab_link": true
    },
    "kernelspec": {
      "name": "python3",
      "display_name": "Python 3"
    },
    "language_info": {
      "name": "python"
    }
  },
  "cells": [
    {
      "cell_type": "markdown",
      "metadata": {
        "id": "view-in-github",
        "colab_type": "text"
      },
      "source": [
        "<a href=\"https://colab.research.google.com/github/venkatpesala/MLOPS/blob/main/MLOPS_test1.ipynb\" target=\"_parent\"><img src=\"https://colab.research.google.com/assets/colab-badge.svg\" alt=\"Open In Colab\"/></a>"
      ]
    },
    {
      "cell_type": "code",
      "execution_count": 1,
      "metadata": {
        "id": "r9TqMSCLZ5w8"
      },
      "outputs": [],
      "source": [
        "import numpy as np"
      ]
    },
    {
      "cell_type": "code",
      "source": [
        "!ls"
      ],
      "metadata": {
        "colab": {
          "base_uri": "https://localhost:8080/"
        },
        "id": "1YIi1kz-0iGi",
        "outputId": "160bf25f-22ec-44a2-b244-8b2c48af1cb4"
      },
      "execution_count": 8,
      "outputs": [
        {
          "output_type": "stream",
          "name": "stdout",
          "text": [
            "ClassifierModel.pickle\tdaca9795e46501ad4df59e4f576eab87876e4cbe  sample_data\n"
          ]
        }
      ]
    },
    {
      "cell_type": "code",
      "source": [
        "!wget https://github.com/venkatpesala/MLOPS/raw/9f8894eed0d598daf7c800ff299d0e5d4cc1d1bd/ClassifierModel.pickle"
      ],
      "metadata": {
        "colab": {
          "base_uri": "https://localhost:8080/"
        },
        "id": "_AJXCFR8rEZH",
        "outputId": "2367fa76-32ab-4302-9199-89b4b32d099b"
      },
      "execution_count": 7,
      "outputs": [
        {
          "output_type": "stream",
          "name": "stdout",
          "text": [
            "--2022-03-16 04:17:09--  https://github.com/venkatpesala/MLOPS/raw/9f8894eed0d598daf7c800ff299d0e5d4cc1d1bd/ClassifierModel.pickle\n",
            "Resolving github.com (github.com)... 140.82.112.4\n",
            "Connecting to github.com (github.com)|140.82.112.4|:443... connected.\n",
            "HTTP request sent, awaiting response... 302 Found\n",
            "Location: https://raw.githubusercontent.com/venkatpesala/MLOPS/9f8894eed0d598daf7c800ff299d0e5d4cc1d1bd/ClassifierModel.pickle [following]\n",
            "--2022-03-16 04:17:09--  https://raw.githubusercontent.com/venkatpesala/MLOPS/9f8894eed0d598daf7c800ff299d0e5d4cc1d1bd/ClassifierModel.pickle\n",
            "Resolving raw.githubusercontent.com (raw.githubusercontent.com)... 185.199.108.133, 185.199.109.133, 185.199.110.133, ...\n",
            "Connecting to raw.githubusercontent.com (raw.githubusercontent.com)|185.199.108.133|:443... connected.\n",
            "HTTP request sent, awaiting response... 200 OK\n",
            "Length: 735 [application/octet-stream]\n",
            "Saving to: ‘ClassifierModel.pickle’\n",
            "\n",
            "ClassifierModel.pic 100%[===================>]     735  --.-KB/s    in 0s      \n",
            "\n",
            "2022-03-16 04:17:09 (28.5 MB/s) - ‘ClassifierModel.pickle’ saved [735/735]\n",
            "\n"
          ]
        }
      ]
    },
    {
      "cell_type": "code",
      "source": [
        "import pickle"
      ],
      "metadata": {
        "id": "srE1AMXSznqy"
      },
      "execution_count": 9,
      "outputs": []
    },
    {
      "cell_type": "code",
      "source": [
        "classifier_colab = pickle.load(open(\"ClassifierModel.pickle\",'rb'))"
      ],
      "metadata": {
        "id": "PucjA0AorQeR",
        "outputId": "d16f7efd-45b3-4ede-b6a2-3c442a12612a",
        "colab": {
          "base_uri": "https://localhost:8080/"
        }
      },
      "execution_count": 10,
      "outputs": [
        {
          "output_type": "stream",
          "name": "stderr",
          "text": [
            "/usr/local/lib/python3.7/dist-packages/sklearn/base.py:338: UserWarning: Trying to unpickle estimator LogisticRegression from version 0.24.0 when using version 1.0.2. This might lead to breaking code or invalid results. Use at your own risk. For more info please refer to:\n",
            "https://scikit-learn.org/stable/modules/model_persistence.html#security-maintainability-limitations\n",
            "  UserWarning,\n"
          ]
        }
      ]
    },
    {
      "cell_type": "code",
      "source": [
        "import platform\n",
        "print(platform.python_version())"
      ],
      "metadata": {
        "id": "CFWY_ywB2_Nh",
        "colab": {
          "base_uri": "https://localhost:8080/"
        },
        "outputId": "f5f559c2-8aa8-44b2-b97d-09c334ae61cf"
      },
      "execution_count": 11,
      "outputs": [
        {
          "output_type": "stream",
          "name": "stdout",
          "text": [
            "3.7.12\n"
          ]
        }
      ]
    },
    {
      "cell_type": "code",
      "source": [
        "classifier_colab.predict_proba([[1,-0.9]])"
      ],
      "metadata": {
        "colab": {
          "base_uri": "https://localhost:8080/"
        },
        "id": "oX5ehOX48jeh",
        "outputId": "e533c67f-a9a4-4cd5-af81-502f75fac561"
      },
      "execution_count": 13,
      "outputs": [
        {
          "output_type": "execute_result",
          "data": {
            "text/plain": [
              "array([[1.00000000e+00, 9.24244527e-21, 9.29117518e-26]])"
            ]
          },
          "metadata": {},
          "execution_count": 13
        }
      ]
    },
    {
      "cell_type": "code",
      "source": [
        "classifier_colab.predict([[10,-8.9]])"
      ],
      "metadata": {
        "colab": {
          "base_uri": "https://localhost:8080/"
        },
        "id": "ksD7cU1K8wZv",
        "outputId": "9160d707-a1b7-46dc-8306-3fafec25ad20"
      },
      "execution_count": 16,
      "outputs": [
        {
          "output_type": "execute_result",
          "data": {
            "text/plain": [
              "array([2], dtype=int32)"
            ]
          },
          "metadata": {},
          "execution_count": 16
        }
      ]
    },
    {
      "cell_type": "markdown",
      "source": [
        "# New Section"
      ],
      "metadata": {
        "id": "Xs-fkarq3EbT"
      }
    }
  ]
}